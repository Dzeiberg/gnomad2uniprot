{
 "cells": [
  {
   "cell_type": "markdown",
   "metadata": {},
   "source": [
    "# Mapping gnomAD v2.1 to uniprot"
   ]
  },
  {
   "cell_type": "code",
   "execution_count": 4,
   "metadata": {},
   "outputs": [
    {
     "name": "stderr",
     "output_type": "stream",
     "text": [
      "/var/folders/v1/mdb0lh1x1dn_kdm4gf3h64k00000gn/T/ipykernel_59021/3928863487.py:4: TqdmWarning: IProgress not found. Please update jupyter and ipywidgets. See https://ipywidgets.readthedocs.io/en/stable/user_install.html\n",
      "  from tqdm.autonotebook import tqdm\n"
     ]
    }
   ],
   "source": [
    "import pandas as pd\n",
    "from collections import defaultdict\n",
    "from Bio.PDB.Polypeptide import protein_letters_3to1\n",
    "from tqdm.autonotebook import tqdm"
   ]
  },
  {
   "cell_type": "markdown",
   "metadata": {},
   "source": [
    "## Read Data"
   ]
  },
  {
   "cell_type": "markdown",
   "metadata": {},
   "source": [
    "### Read MANE Summary table to obtain Ensembl protein IDs of MANE-Select transcripts"
   ]
  },
  {
   "cell_type": "code",
   "execution_count": 5,
   "metadata": {},
   "outputs": [],
   "source": [
    "mane_summary = pd.read_csv(\"https://ftp.ncbi.nlm.nih.gov/refseq/MANE/MANE_human/current/MANE.GRCh38.v1.3.summary.txt.gz\",\n",
    "                           compression=\"gzip\",sep=\"\\t\")"
   ]
  },
  {
   "cell_type": "markdown",
   "metadata": {},
   "source": [
    "### Read in gnomAD v2.1 data (transformed to table using gatk)  "
   ]
  },
  {
   "cell_type": "code",
   "execution_count": 6,
   "metadata": {},
   "outputs": [
    {
     "name": "stderr",
     "output_type": "stream",
     "text": [
      "/var/folders/v1/mdb0lh1x1dn_kdm4gf3h64k00000gn/T/ipykernel_59021/2877851751.py:3: DtypeWarning: Columns (0,9,11,13,14,15,20,50,59) have mixed types. Specify dtype option on import or set low_memory=False.\n",
      "  exomes = pd.read_csv(\"gnomad.exomes.r2.1.1.sites.missense.vcf.gz\",compression=\"gzip\",sep=\"\\t\",header=None)\n"
     ]
    }
   ],
   "source": [
    "with open(\"header.txt\") as f:\n",
    "    header = f.read().split(',')\n",
    "exomes = pd.read_csv(\"gnomad.exomes.r2.1.1.sites.missense.vcf.gz\",compression=\"gzip\",sep=\"\\t\",header=None)\n",
    "exomes.columns = header"
   ]
  },
  {
   "cell_type": "markdown",
   "metadata": {},
   "source": [
    "### Filter only variants in MANE-Select transcripts"
   ]
  },
  {
   "cell_type": "code",
   "execution_count": 7,
   "metadata": {},
   "outputs": [],
   "source": [
    "gnomad_mane = exomes[exomes.HGVSp.str.split(\":\").str[0].isin(set(mane_summary[mane_summary.MANE_status == \"MANE Select\"].Ensembl_prot.values))]"
   ]
  },
  {
   "cell_type": "markdown",
   "metadata": {},
   "source": [
    "### Read in uniprot id mapping table for human genes"
   ]
  },
  {
   "cell_type": "code",
   "execution_count": 8,
   "metadata": {},
   "outputs": [],
   "source": [
    "id_mapping = pd.read_csv(\"https://ftp.uniprot.org/pub/databases/uniprot/current_release/knowledgebase/idmapping/by_organism/HUMAN_9606_idmapping.dat.gz\",\n",
    "                         compression=\"gzip\",sep='\\t',header=None)"
   ]
  },
  {
   "cell_type": "markdown",
   "metadata": {},
   "source": [
    "#### Make dictionary mapping Ensembl_prot -> uniprot_acc"
   ]
  },
  {
   "cell_type": "code",
   "execution_count": 9,
   "metadata": {},
   "outputs": [],
   "source": [
    "ensembl_prot_2_uniprot = {}\n",
    "for _,r in id_mapping[id_mapping.loc[:,1] == \"Ensembl_PRO\"].iterrows():\n",
    "        ensembl_prot_2_uniprot[r[2]] = r[0]"
   ]
  },
  {
   "cell_type": "markdown",
   "metadata": {},
   "source": [
    "#### Identify any Ensembl_prot ids that are missing from this mapping table"
   ]
  },
  {
   "cell_type": "code",
   "execution_count": 10,
   "metadata": {},
   "outputs": [
    {
     "data": {
      "text/plain": [
       "{'ENSP00000221455.3',\n",
       " 'ENSP00000265310.1',\n",
       " 'ENSP00000289575.5',\n",
       " 'ENSP00000365465.2',\n",
       " 'ENSP00000369823.3',\n",
       " 'ENSP00000405012.2'}"
      ]
     },
     "execution_count": 10,
     "metadata": {},
     "output_type": "execute_result"
    }
   ],
   "source": [
    "set(gnomad_mane.HGVSp.str.split(\":\").str[0].values) - set(ensembl_prot_2_uniprot.keys())"
   ]
  },
  {
   "cell_type": "markdown",
   "metadata": {},
   "source": [
    "#### Hard code these missing mappings (search Ensembl_prot id on uniprot website)"
   ]
  },
  {
   "cell_type": "code",
   "execution_count": 11,
   "metadata": {},
   "outputs": [],
   "source": [
    "ensembl_prot_2_uniprot[\"ENSP00000221455.3\"] = \"Q8N2M8\"\n",
    "ensembl_prot_2_uniprot['ENSP00000265310.1'] = \"Q9NQA5\"\n",
    "ensembl_prot_2_uniprot['ENSP00000289575.5'] = 'O94956'\n",
    "ensembl_prot_2_uniprot['ENSP00000365465.2'] = 'Q15517'\n",
    "ensembl_prot_2_uniprot['ENSP00000369823.3'] = 'Q3MIN7'\n",
    "ensembl_prot_2_uniprot['ENSP00000405012.2'] = 'Q6ZQQ6'"
   ]
  },
  {
   "cell_type": "code",
   "execution_count": 12,
   "metadata": {},
   "outputs": [],
   "source": [
    "df = gnomad_mane.loc[gnomad_mane.Consequence == \"missense_variant\",[\"CHROM\", \"POS\", \"ID\",\"REF\", \"ALT\", \"QUAL\",\"FILTER\",\"AC\", \"AN\",\"AF\",\"HGVSp\"]]\n",
    "df = df.assign(Ensembl_prot = df.HGVSp.str.split(\":\").str[0])\n",
    "df = df.set_index(\"Ensembl_prot\").assign(uniprot_acc = ensembl_prot_2_uniprot).reset_index()\n",
    "df = df.assign(aa_ref = df.HGVSp.str.split(\":\").str[1].str[2:5].str.upper().apply(lambda x: protein_letters_3to1[x] if x in protein_letters_3to1 else x),\n",
    "                aa_alt = df.HGVSp.str.split(\":\").str[1].str[-3:].str.upper().apply(lambda x: protein_letters_3to1[x] if x in protein_letters_3to1 else x),\n",
    "                aa_pos = df.HGVSp.str.split(\":\").str[1].str[5:-3].astype(int))"
   ]
  },
  {
   "cell_type": "code",
   "execution_count": 13,
   "metadata": {},
   "outputs": [],
   "source": [
    "from scipy.io import savemat"
   ]
  },
  {
   "cell_type": "code",
   "execution_count": 14,
   "metadata": {},
   "outputs": [],
   "source": [
    "savemat(\"gnomad_mane_mapped.mat\",{k:df[k].values for k in df.columns},do_compression=True)"
   ]
  },
  {
   "cell_type": "code",
   "execution_count": null,
   "metadata": {},
   "outputs": [],
   "source": []
  }
 ],
 "metadata": {
  "kernelspec": {
   "display_name": "gene-calibration-FXw4m310-py3.11",
   "language": "python",
   "name": "python3"
  },
  "language_info": {
   "codemirror_mode": {
    "name": "ipython",
    "version": 3
   },
   "file_extension": ".py",
   "mimetype": "text/x-python",
   "name": "python",
   "nbconvert_exporter": "python",
   "pygments_lexer": "ipython3",
   "version": "3.11.4"
  }
 },
 "nbformat": 4,
 "nbformat_minor": 2
}
